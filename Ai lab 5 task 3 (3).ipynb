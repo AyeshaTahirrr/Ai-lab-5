{
 "cells": [
  {
   "cell_type": "code",
   "execution_count": 9,
   "id": "d4c0d647-1cac-48f7-8419-158040374089",
   "metadata": {},
   "outputs": [
    {
     "name": "stdout",
     "output_type": "stream",
     "text": [
      "Prediction for new entry: male\n",
      "\n",
      "Updated Dataset:\n",
      "Height: 6.00, Weight: 180.0, FootSize: 12.0, Gender: male\n",
      "Height: 5.92, Weight: 190.0, FootSize: 11.0, Gender: male\n",
      "Height: 5.58, Weight: 170.0, FootSize: 12.0, Gender: male\n",
      "Height: 5.92, Weight: 165.0, FootSize: 10.0, Gender: male\n",
      "Height: 5.00, Weight: 100.0, FootSize: 6.0, Gender: female\n",
      "Height: 5.50, Weight: 150.0, FootSize: 8.0, Gender: female\n",
      "Height: 5.42, Weight: 130.0, FootSize: 7.0, Gender: female\n",
      "Height: 5.75, Weight: 150.0, FootSize: 9.0, Gender: female\n",
      "Height: 6.00, Weight: 180.0, FootSize: 12.0, Gender: male\n",
      "\n",
      "Confusion Matrix:\n",
      "[[4 0]\n",
      " [0 5]]\n",
      "Accuracy: 1.0\n"
     ]
    }
   ],
   "source": [
    "import numpy as np\n",
    "from sklearn.tree import DecisionTreeClassifier\n",
    "from sklearn.metrics import confusion_matrix, accuracy_score\n",
    "\n",
    "data = np.array([\n",
    "    [\"male\", 6.00, 180, 12],\n",
    "    [\"male\", 5.92, 190, 11],\n",
    "    [\"male\", 5.58, 170, 12],\n",
    "    [\"male\", 5.92, 165, 10],\n",
    "    [\"female\", 5.00, 100, 6],\n",
    "    [\"female\", 5.50, 150, 8],\n",
    "    [\"female\", 5.42, 130, 7],\n",
    "    [\"female\", 5.75, 150, 9],\n",
    "])\n",
    "\n",
    "labels = data[:, 0]  # Gender\n",
    "features = data[:, 1:].astype(float)  # Height, Weight, Foot_Size\n",
    "\n",
    "labels_encoded = np.array([1 if label == \"male\" else 0 for label in labels])\n",
    "\n",
    "classifier = DecisionTreeClassifier()\n",
    "classifier.fit(features, labels_encoded)\n",
    "\n",
    "new_entry = np.array([[6.00, 180, 12]])\n",
    "prediction = classifier.predict(new_entry)\n",
    "predicted_label = \"male\" if prediction[0] == 1 else \"female\"\n",
    "\n",
    "print(\"Prediction for new entry:\", predicted_label)\n",
    "\n",
    "features = np.vstack([features, new_entry])\n",
    "labels_encoded = np.append(labels_encoded, prediction)\n",
    "\n",
    "predicted = classifier.predict(features)\n",
    "\n",
    "conf_mat = confusion_matrix(labels_encoded, predicted)\n",
    "accuracy = accuracy_score(labels_encoded, predicted)\n",
    "print(\"\\nUpdated Dataset:\")\n",
    "for i in range(features.shape[0]):\n",
    "    gender = \"male\" if labels_encoded[i] == 1 else \"female\"\n",
    "    print(f\"Height: {features[i][0]:.2f}, Weight: {features[i][1]}, FootSize: {features[i][2]}, Gender: {gender}\")\n",
    "\n",
    "print(\"\\nConfusion Matrix:\")\n",
    "print(conf_mat)\n",
    "print(\"Accuracy:\", accuracy)\n"
   ]
  },
  {
   "cell_type": "code",
   "execution_count": null,
   "id": "4965842b-8058-49ad-a44a-8829dfda4e91",
   "metadata": {},
   "outputs": [],
   "source": []
  }
 ],
 "metadata": {
  "kernelspec": {
   "display_name": "Python 3 (ipykernel)",
   "language": "python",
   "name": "python3"
  },
  "language_info": {
   "codemirror_mode": {
    "name": "ipython",
    "version": 3
   },
   "file_extension": ".py",
   "mimetype": "text/x-python",
   "name": "python",
   "nbconvert_exporter": "python",
   "pygments_lexer": "ipython3",
   "version": "3.12.7"
  }
 },
 "nbformat": 4,
 "nbformat_minor": 5
}

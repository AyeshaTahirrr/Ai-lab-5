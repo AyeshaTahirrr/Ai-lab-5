{
 "cells": [
  {
   "cell_type": "code",
   "execution_count": 3,
   "id": "2c50d486-6364-4a99-b150-e9747b164cad",
   "metadata": {},
   "outputs": [
    {
     "name": "stdin",
     "output_type": "stream",
     "text": [
      "Enter Season (Summer, Winter, Fall, Spring):  Summer\n",
      "Enter Booking Source (Online, Phone, Walk-in):  Online\n"
     ]
    },
    {
     "name": "stdout",
     "output_type": "stream",
     "text": [
      "Prediction for new entry (Summer, Online): Yes\n",
      "\n",
      "Confusion Matrix:\n",
      "[[4 0]\n",
      " [1 5]]\n",
      "Accuracy: 0.9\n"
     ]
    }
   ],
   "source": [
    "from sklearn import preprocessing\n",
    "from sklearn.tree import DecisionTreeClassifier\n",
    "from sklearn.metrics import confusion_matrix, accuracy_score\n",
    "\n",
    "# Data dictionary\n",
    "data = {\n",
    "    \"Season\": [\"Summer\", \"Winter\", \"Fall\", \"Spring\", \"Winter\", \"Summer\", \"Fall\", \"Spring\", \"Summer\", \"Winter\"],\n",
    "    \"Booking Source\": [\"Online\", \"Phone\", \"Walk-in\", \"Online\", \"Walk-in\", \"Phone\", \"Online\", \"Walk-in\", \"Phone\", \"Online\"],\n",
    "    \"Booked\": [\"Yes\", \"No\", \"Yes\", \"Yes\", \"No\", \"No\", \"Yes\", \"Yes\", \"Yes\", \"No\"]\n",
    "}\n",
    "\n",
    "# Initialize LabelEncoders\n",
    "le_season = preprocessing.LabelEncoder()\n",
    "le_booking_source = preprocessing.LabelEncoder()\n",
    "le_booked = preprocessing.LabelEncoder()\n",
    "\n",
    "# Encode categorical data\n",
    "season_encoded = le_season.fit_transform(data[\"Season\"])\n",
    "booking_source_encoded = le_booking_source.fit_transform(data[\"Booking Source\"])\n",
    "booked_encoded = le_booked.fit_transform(data[\"Booked\"])\n",
    "\n",
    "# Combine encoded features\n",
    "features = list(zip(season_encoded, booking_source_encoded))\n",
    "labels = booked_encoded\n",
    "\n",
    "# Train the Decision Tree Classifier\n",
    "classifier = DecisionTreeClassifier()\n",
    "classifier.fit(features, labels)\n",
    "\n",
    "# Take user input for prediction\n",
    "user_season = input(\"Enter Season (Summer, Winter, Fall, Spring): \")\n",
    "user_booking_source = input(\"Enter Booking Source (Online, Phone, Walk-in): \")\n",
    "\n",
    "# Encode user input\n",
    "encoded_season = le_season.transform([user_season])[0]\n",
    "encoded_booking_source = le_booking_source.transform([user_booking_source])[0]\n",
    "new_entry = [[encoded_season, encoded_booking_source]]\n",
    "\n",
    "# Make a prediction for the new entry\n",
    "new_prediction = classifier.predict(new_entry)\n",
    "prediction_result = \"Yes\" if new_prediction[0] == 1 else \"No\"\n",
    "\n",
    "# Display prediction\n",
    "print(f\"Prediction for new entry ({user_season}, {user_booking_source}):\", prediction_result)\n",
    "\n",
    "# Evaluate model performance\n",
    "predicted = classifier.predict(features)\n",
    "conf_mat = confusion_matrix(labels, predicted)\n",
    "accuracy = accuracy_score(labels, predicted)\n",
    "\n",
    "# Display confusion matrix and accuracy\n",
    "print(\"\\nConfusion Matrix:\")\n",
    "print(conf_mat)\n",
    "print(\"Accuracy:\", accuracy)\n"
   ]
  },
  {
   "cell_type": "code",
   "execution_count": null,
   "id": "b75e681c-a583-4ac2-ad30-d1f832737e7b",
   "metadata": {},
   "outputs": [],
   "source": []
  }
 ],
 "metadata": {
  "kernelspec": {
   "display_name": "Python 3 (ipykernel)",
   "language": "python",
   "name": "python3"
  },
  "language_info": {
   "codemirror_mode": {
    "name": "ipython",
    "version": 3
   },
   "file_extension": ".py",
   "mimetype": "text/x-python",
   "name": "python",
   "nbconvert_exporter": "python",
   "pygments_lexer": "ipython3",
   "version": "3.12.7"
  }
 },
 "nbformat": 4,
 "nbformat_minor": 5
}
